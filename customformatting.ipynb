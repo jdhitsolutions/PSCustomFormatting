{
 "cells": [
  {
   "cell_type": "markdown",
   "metadata": {},
   "source": [
    "# Say More, Do More with Custom PowerShell Formatting"
   ]
  },
  {
   "cell_type": "markdown",
   "metadata": {},
   "source": [
    "### Jeff Hicks (https://jdhitsolutions.github.io) "
   ]
  },
  {
   "cell_type": "markdown",
   "metadata": {},
   "source": [
    "When creating PowerShell tools that write custom objects to the pipeline, separate the data from how it is presented or formatted. __NEVER__ write a PowerShell function like this:"
   ]
  },
  {
   "cell_type": "code",
   "execution_count": 25,
   "id": "a3b10241",
   "metadata": {
    "dotnet_interactive": {
     "language": "pwsh"
    },
    "polyglot_notebook": {
     "kernelName": "pwsh"
    },
    "vscode": {
     "languageId": "polyglot-notebook"
    }
   },
   "outputs": [
    {
     "name": "stdout",
     "output_type": "stream",
     "text": [
      "\n",
      "\u001b[32;1mName\u001b[0m\u001b[32;1m ComputerName\u001b[0m\u001b[32;1m Status\u001b[0m\u001b[32;1m    ID\u001b[0m\u001b[32;1m PSVersion\u001b[0m\n",
      "\u001b[32;1m----\u001b[0m \u001b[32;1m------------\u001b[0m \u001b[32;1m------\u001b[0m \u001b[32;1m   --\u001b[0m \u001b[32;1m---------\u001b[0m\n",
      "Jeff PROSPERO     Online 32345 7.4.6\n",
      "\n"
     ]
    }
   ],
   "source": [
    "Function Get-Foo {\n",
    "    [cmdletbinding()]\n",
    "    Param()\n",
    "    $out = [PSCustomObject]@{\n",
    "        Name         = $env:USERNAME\n",
    "        ComputerName = $env:COMPUTERNAME\n",
    "        Status       = 'Online'\n",
    "        ID           = 32345\n",
    "        PSVersion    = $PSVersionTable.PSVersion\n",
    "    }\n",
    "    $out | Format-Table\n",
    "}\n",
    "\n",
    "Get-Foo"
   ]
  },
  {
   "cell_type": "markdown",
   "metadata": {},
   "source": [
    "All you can do is look at or save it to a text file. *Formatting the output is separate from the data.* __Let the user decide__ how they want to see the data. However, you can define a default format for your custom pipeline output."
   ]
  },
  {
   "cell_type": "markdown",
   "metadata": {},
   "source": [
    "### Why Does This Matter\n",
    "\n",
    "- Create rich object output. \n",
    "- Don't limit yourself in an attempt to make the output look pretty. \n",
    "- Anticipate anything the user may want to know and include it. \n",
    "\n",
    "You can make it pretty with custom formatting. Process objects are a good example."
   ]
  },
  {
   "cell_type": "code",
   "execution_count": 26,
   "id": "383b48bc",
   "metadata": {
    "dotnet_interactive": {
     "language": "pwsh"
    },
    "polyglot_notebook": {
     "kernelName": "pwsh"
    },
    "vscode": {
     "languageId": "polyglot-notebook"
    }
   },
   "outputs": [
    {
     "name": "stdout",
     "output_type": "stream",
     "text": [
      "\n",
      "\u001b[32;1;3m NPM(K)\u001b[0m \u001b[32;1;3m   PM(M)\u001b[0m \u001b[32;1;3m     WS(M)\u001b[0m \u001b[32;1;3m    CPU(s)\u001b[0m\u001b[32;1m      Id\u001b[0m\u001b[32;1m  SI\u001b[0m\u001b[32;1m ProcessName\u001b[0m\n",
      "\u001b[32;1m ------\u001b[0m \u001b[32;1m   -----\u001b[0m \u001b[32;1m     -----\u001b[0m \u001b[32;1m    ------\u001b[0m \u001b[32;1m     --\u001b[0m \u001b[32;1m --\u001b[0m \u001b[32;1m-----------\u001b[0m\n",
      "    176    99.54     175.09      11.19   29852   1 dotnet\n",
      "\n"
     ]
    }
   ],
   "source": [
    "$p = Get-Process -id $pid\n",
    "$p"
   ]
  },
  {
   "cell_type": "markdown",
   "metadata": {},
   "source": [
    "We get a customized and formatted output, even though the object is rich in properties."
   ]
  },
  {
   "cell_type": "code",
   "execution_count": 27,
   "id": "53982687",
   "metadata": {
    "dotnet_interactive": {
     "language": "pwsh"
    },
    "polyglot_notebook": {
     "kernelName": "pwsh"
    },
    "vscode": {
     "languageId": "polyglot-notebook"
    }
   },
   "outputs": [
    {
     "name": "stdout",
     "output_type": "stream",
     "text": [
      "\n",
      "\u001b[32;1mName                       : \u001b[0mdotnet\n",
      "\u001b[32;1mId                         : \u001b[0m29852\n",
      "\u001b[32;1mPriorityClass              : \u001b[0mNormal\n",
      "\u001b[32;1mFileVersion                : \u001b[0m9,0,24,52809 @Commit: 9d5a6a9aa463d6d10b0b0ba6d5982cc82f363dc3\n",
      "\u001b[32;1mHandleCount                : \u001b[0m1162\n",
      "\u001b[32;1mWorkingSet                 : \u001b[0m183599104\n",
      "\u001b[32;1mPagedMemorySize            : \u001b[0m104374272\n",
      "\u001b[32;1mPrivateMemorySize          : \u001b[0m104374272\n",
      "\u001b[32;1mVirtualMemorySize          : \u001b[0m-1323032576\n",
      "\u001b[32;1mTotalProcessorTime         : \u001b[0m00:00:11.1875000\n",
      "\u001b[32;1mSI                         : \u001b[0m1\n",
      "\u001b[32;1mHandles                    : \u001b[0m1162\n",
      "\u001b[32;1mVM                         : \u001b[0m2481168064512\n",
      "\u001b[32;1mWS                         : \u001b[0m183599104\n",
      "\u001b[32;1mPM                         : \u001b[0m104374272\n",
      "\u001b[32;1mNPM                        : \u001b[0m180248\n",
      "\u001b[32;1mPath                       : \u001b[0mC:\\Program Files\\Dotnet\\dotnet.exe\n",
      "\u001b[32;1mCommandLine                : \u001b[0m\"C:\\Program Files\\Dotnet\\dotnet.exe\" C:\\Users\\Jeff\\.nuget\\packages\\mic\n",
      "                             rosoft.dotnet-interactive\\1.0.611002\\tools/net9.0/any/Microsoft.DotNet\n",
      "                             .Interactive.App.dll [vscode] stdio --working-dir \n",
      "                             c:\\presentations\\RTPSUG-CustomFormatting\n",
      "\u001b[32;1mParent                     : \u001b[0mSystem.Diagnostics.Process (dotnet)\n",
      "\u001b[32;1mCompany                    : \u001b[0mMicrosoft Corporation\n",
      "\u001b[32;1mCPU                        : \u001b[0m11.296875\n",
      "\u001b[32;1mProductVersion             : \u001b[0m9.0.0 @Commit: 9d5a6a9aa463d6d10b0b0ba6d5982cc82f363dc3\n",
      "\u001b[32;1mDescription                : \u001b[0m.NET Host\n",
      "\u001b[32;1mProduct                    : \u001b[0m.NET\n",
      "\u001b[32;1m__NounName                 : \u001b[0mProcess\n",
      "\u001b[32;1mSafeHandle                 : \u001b[0mMicrosoft.Win32.SafeHandles.SafeProcessHandle\n",
      "\u001b[32;1mHandle                     : \u001b[0m4788\n",
      "\u001b[32;1mBasePriority               : \u001b[0m8\n",
      "\u001b[32;1mExitCode                   : \u001b[0m\n",
      "\u001b[32;1mHasExited                  : \u001b[0mFalse\n",
      "\u001b[32;1mStartTime                  : \u001b[0m3/6/2025 10:12:04 AM\n",
      "\u001b[32;1mExitTime                   : \u001b[0m\n",
      "\u001b[32;1mMachineName                : \u001b[0m.\n",
      "\u001b[32;1mMaxWorkingSet              : \u001b[0m1413120\n",
      "\u001b[32;1mMinWorkingSet              : \u001b[0m204800\n",
      "\u001b[32;1mModules                    : \u001b[0m{System.Diagnostics.ProcessModule (dotnet.exe), \n",
      "                             System.Diagnostics.ProcessModule (ntdll.dll), \n",
      "                             System.Diagnostics.ProcessModule (KERNEL32.DLL), \n",
      "                             System.Diagnostics.ProcessModule (KERNELBASE.dll)…}\n",
      "\u001b[32;1mNonpagedSystemMemorySize64 : \u001b[0m180248\n",
      "\u001b[32;1mNonpagedSystemMemorySize   : \u001b[0m180248\n",
      "\u001b[32;1mPagedMemorySize64          : \u001b[0m104374272\n",
      "\u001b[32;1mPagedSystemMemorySize64    : \u001b[0m659408\n",
      "\u001b[32;1mPagedSystemMemorySize      : \u001b[0m659408\n",
      "\u001b[32;1mPeakPagedMemorySize64      : \u001b[0m104898560\n",
      "\u001b[32;1mPeakPagedMemorySize        : \u001b[0m104898560\n",
      "\u001b[32;1mPeakWorkingSet64           : \u001b[0m239218688\n",
      "\u001b[32;1mPeakWorkingSet             : \u001b[0m239218688\n",
      "\u001b[32;1mPeakVirtualMemorySize64    : \u001b[0m2481187639296\n",
      "\u001b[32;1mPeakVirtualMemorySize      : \u001b[0m-1303457792\n",
      "\u001b[32;1mPriorityBoostEnabled       : \u001b[0mTrue\n",
      "\u001b[32;1mPrivateMemorySize64        : \u001b[0m104374272\n",
      "\u001b[32;1mProcessorAffinity          : \u001b[0m1048575\n",
      "\u001b[32;1mSessionId                  : \u001b[0m1\n",
      "\u001b[32;1mStartInfo                  : \u001b[0m\n",
      "\u001b[32;1mThreads                    : \u001b[0m{25756, 22844, 35268, 9780…}\n",
      "\u001b[32;1mVirtualMemorySize64        : \u001b[0m2481168064512\n",
      "\u001b[32;1mEnableRaisingEvents        : \u001b[0mFalse\n",
      "\u001b[32;1mStandardInput              : \u001b[0m\n",
      "\u001b[32;1mStandardOutput             : \u001b[0m\n",
      "\u001b[32;1mStandardError              : \u001b[0m\n",
      "\u001b[32;1mWorkingSet64               : \u001b[0m183599104\n",
      "\u001b[32;1mSynchronizingObject        : \u001b[0m\n",
      "\u001b[32;1mMainModule                 : \u001b[0mSystem.Diagnostics.ProcessModule (dotnet.exe)\n",
      "\u001b[32;1mPrivilegedProcessorTime    : \u001b[0m00:00:02.9375000\n",
      "\u001b[32;1mUserProcessorTime          : \u001b[0m00:00:08.4843750\n",
      "\u001b[32;1mProcessName                : \u001b[0mdotnet\n",
      "\u001b[32;1mMainWindowHandle           : \u001b[0m0\n",
      "\u001b[32;1mMainWindowTitle            : \u001b[0m\n",
      "\u001b[32;1mResponding                 : \u001b[0mTrue\n",
      "\u001b[32;1mSite                       : \u001b[0m\n",
      "\u001b[32;1mContainer                  : \u001b[0m\n",
      "\n"
     ]
    }
   ],
   "source": [
    "$p | Select-Object -Property *"
   ]
  },
  {
   "cell_type": "markdown",
   "metadata": {},
   "source": [
    "Someone at Microsoft decided what an IT Pro would most likely want to see from processes and formatted the output accordingly."
   ]
  },
  {
   "cell_type": "markdown",
   "metadata": {},
   "source": [
    "## Creating Custom Formatting\n",
    "\n",
    "Custom formatting is defined in .ps1xml files. In Windows PowerShell, these are found in `$PSHome`."
   ]
  },
  {
   "cell_type": "code",
   "execution_count": 28,
   "id": "44e41407",
   "metadata": {
    "dotnet_interactive": {
     "language": "pwsh"
    },
    "polyglot_notebook": {
     "kernelName": "pwsh"
    },
    "vscode": {
     "languageId": "polyglot-notebook"
    }
   },
   "outputs": [
    {
     "name": "stdout",
     "output_type": "stream",
     "text": [
      "\n",
      "\n",
      "    Directory: C:\\Windows\\System32\\WindowsPowerShell\\v1.0\n",
      "\n",
      "\n",
      "Mode                 LastWriteTime         Length Name                                                                 \n",
      "----                 -------------         ------ ----                                                                 \n",
      "-a----          4/1/2024   3:22 AM          12825 Certificate.format.ps1xml                                            \n",
      "-a----          4/1/2024   3:22 AM           4994 Diagnostics.Format.ps1xml                                            \n",
      "-a----          4/1/2024   3:22 AM         138013 DotNetTypes.format.ps1xml                                            \n",
      "-a----          4/1/2024   3:22 AM          10112 Event.Format.ps1xml                                                  \n",
      "-a----          4/1/2024   3:22 AM          25306 FileSystem.format.ps1xml                                             \n",
      "-a----          4/1/2024   3:22 AM          91655 Help.format.ps1xml                                                   \n",
      "-a----          4/1/2024   3:22 AM         138625 HelpV3.format.ps1xml                                                 \n",
      "-a----          4/1/2024   3:22 AM         206468 PowerShellCore.format.ps1xml                                         \n",
      "-a----          4/1/2024   3:22 AM           4097 PowerShellTrace.format.ps1xml                                        \n",
      "-a----          4/1/2024   3:22 AM           8458 Registry.format.ps1xml                                               \n",
      "-a----          4/1/2024   3:22 AM          16598 WSMan.Format.ps1xml                                                  \n",
      "\n",
      "\n"
     ]
    }
   ],
   "source": [
    "powershell -noprofile -nologo -command '&{Get-ChildItem $PSHome\\*.format.ps1xml}'"
   ]
  },
  {
   "cell_type": "markdown",
   "metadata": {},
   "source": [
    "In PowerShell 7, these files have been moved into compiled code for performance. However, you can define custom formatting in a .ps1xml file and load it into your session.\n",
    "\n",
    "```xml\n",
    "<?xml version=\"1.0\" encoding=\"utf-8\" ?>\n",
    "<Configuration>\n",
    "    <ViewDefinitions>\n",
    "        <View>\n",
    "            <Name>OBJECT.TYPE or name of the view</Name>\n",
    "            <ViewSelectedBy>\n",
    "                <TypeName>OBJECT.TYPE</TypeName>\n",
    "            </ViewSelectedBy>\n",
    "            <TableControl>\n",
    "                <!-- ################ TABLE DEFINITIONS ################ -->\n",
    "                <TableHeaders>\n",
    "                    <TableColumnHeader>\n",
    "                        <Label>Name</Label>\n",
    "                        <Width>7</Width>\n",
    "                        <Alignment>right</Alignment>\n",
    "                    </TableColumnHeader>\n",
    "                </TableHeaders>\n",
    "                <TableRowEntries>\n",
    "                    <TableRowEntry>\n",
    "                        <TableColumnItems>\n",
    "                            <TableColumnItem>\n",
    "                                <PropertyName>Name</PropertyName>\n",
    "                            </TableColumnItem>\n",
    "                        </TableColumnItems>\n",
    "                    </TableRowEntry>\n",
    "                </TableRowEntries>\n",
    "            </TableControl>\n",
    "        </View>\n",
    "        <View>\n",
    "            <Name>OBJECT.TYPE or name of the view</Name>\n",
    "            <ViewSelectedBy>\n",
    "                <TypeName>OBJECT.TYPE</TypeName>\n",
    "            </ViewSelectedBy>\n",
    "            <ListControl>\n",
    "                <!-- ################ LIST DEFINITIONS ################ -->\n",
    "                <ListEntries>\n",
    "                    <ListEntry>\n",
    "                        <EntrySelectedBy>\n",
    "                            <TypeName>OBJECT.TYPE</TypeName>\n",
    "                        </EntrySelectedBy>\n",
    "                        <ListItems>\n",
    "                            <ListItem>\n",
    "                                <PropertyName>Name</PropertyName>\n",
    "                            </ListItem>\n",
    "                        </ListItems>\n",
    "                    </ListEntry>\n",
    "                </ListEntries>\n",
    "            </ListControl>\n",
    "        </View>\n",
    "    </ViewDefinitions>\n",
    "</Configuration>\n",
    "```\n",
    "\n",
    "You can mix and match format types in the same file. "
   ]
  },
  {
   "cell_type": "markdown",
   "metadata": {},
   "source": [
    "### Requirements\n",
    "\n",
    "Your custom object must have a defined and __unique type__ name. It cannot be a generic PSCustomObject. \n",
    "\n",
    "```XML\n",
    "<ViewSelectedBy>\n",
    "    <TypeName>OBJECT.TYPE</TypeName>\n",
    "</ViewSelectedBy>\n",
    "```\n",
    "\n",
    "I typically do this when creating custom objects:\n",
    "\n",
    "```powershell\n",
    "[PSCustomObject]@{\n",
    "    PSTypeName   = \"PSFoo\"  #<--- unique type name\n",
    "    Name         = $env:USERNAME\n",
    "    ComputerName = $env:COMPUTERNAME\n",
    "    Status       = 'Online'\n",
    "    ID           = 32345\n",
    "    PSVersion    = $PSVersionTable.PSVersion\n",
    "}\n",
    "```\n",
    "\n",
    "PowerShell classes are defined with a type name.\n",
    "\n",
    "```powershell\n",
    "class PSFoo {\n",
    "    [string]$Name\n",
    "    [string]$ComputerName\n",
    "    [string]$Status\n",
    "    [int]$ID\n",
    "    [version]$PSVersion\n",
    "}\n",
    "```\n",
    "\n",
    "Or, you can insert a type name into an existing object.\n",
    "\n",
    "```powershell\n",
    "$out.PSObject.TypeNames.Insert(0,\"PSFoo\")\n",
    "```\n",
    "\n",
    "Let's look at a more practical example."
   ]
  },
  {
   "cell_type": "code",
   "execution_count": 29,
   "id": "a7b0bf33",
   "metadata": {
    "dotnet_interactive": {
     "language": "pwsh"
    },
    "polyglot_notebook": {
     "kernelName": "pwsh"
    },
    "vscode": {
     "languageId": "polyglot-notebook"
    }
   },
   "outputs": [
    {
     "name": "stdout",
     "output_type": "stream",
     "text": [
      "\n",
      "NAME\n",
      "    Get-ServerStatus\n",
      "    \n",
      "SYNTAX\n",
      "    Get-ServerStatus [[-Computername] <string>] [-Credential <pscredential>] [-AsInt] \n",
      "    [<CommonParameters>]\n",
      "    \n",
      "    Get-ServerStatus [-CimSession <CimSession>] [-AsInt] [<CommonParameters>]\n",
      "    \n",
      "\n",
      "ALIASES\n",
      "    gst\n",
      "    \n",
      "\n",
      "REMARKS\n",
      "    None\n",
      "\n",
      "\n"
     ]
    }
   ],
   "source": [
    "Function Get-ServerStatus {\n",
    "    [cmdletbinding(DefaultParameterSetName = 'name')]\n",
    "    [OutputType('ServerStatus')]\n",
    "    [alias(\"gst\")]\n",
    "    Param(\n",
    "        [Parameter(\n",
    "            Position = 0,\n",
    "            ValueFromPipeline,\n",
    "            ValueFromPipelineByPropertyName,\n",
    "            HelpMessage = 'Enter the name of a computer',\n",
    "            ParameterSetName = 'name')\n",
    "        ]\n",
    "        [ValidateNotNullOrEmpty()]\n",
    "        [string]$Computername = $env:computername,\n",
    "        [Parameter(ParameterSetName = 'name')]\n",
    "        [PSCredential]$Credential,\n",
    "        [Parameter(ParameterSetName = 'Session', ValueFromPipeline)]\n",
    "        [CimSession]$CimSession,\n",
    "        [Parameter(HelpMessage = \"Format values as [INT]\")]\n",
    "        [switch]$AsInt\n",
    "    )\n",
    "\n",
    "    Begin {\n",
    "        Write-Verbose \"[$((Get-Date).TimeOfDay)] Starting $($MyInvocation.MyCommand)\"\n",
    "    } #begin\n",
    "\n",
    "    Process {\n",
    "        Write-Verbose \"[$((Get-Date).TimeOfDay)] Using parameter set $($PSCmdlet.ParameterSetName)\"\n",
    "\n",
    "        $sessParams = @{\n",
    "            ErrorAction  = 'stop'\n",
    "            computername = $null\n",
    "        }\n",
    "        $cimParams = @{\n",
    "            ErrorAction = 'stop'\n",
    "            classname   = $null\n",
    "        }\n",
    "\n",
    "        if ($PSCmdlet.ParameterSetName -eq 'name') {\n",
    "            #create a temporary CimSession\n",
    "            $sessParams.Computername = $Computername\n",
    "            if ($Credential) {\n",
    "                $sessParams.Credential = $credential\n",
    "            }\n",
    "            #if localhost use DCOM - it will be faster to create the session\n",
    "            if ($Computername -eq $env:computername) {\n",
    "                Write-Verbose \"[$((Get-Date).TimeOfDay)] Creating a local session using DCOM\"\n",
    "                $sessParams.Add(\"SessionOption\", (New-CimSessionOption -Protocol DCOM))\n",
    "            }\n",
    "            Try {\n",
    "                Write-Verbose \"[$((Get-Date).TimeOfDay)] $computername\"\n",
    "                $CimSession = New-CimSession @sessParams\n",
    "                $tempSession = $True\n",
    "            }\n",
    "            catch {\n",
    "                Write-Error $_\n",
    "                #bail out\n",
    "                return\n",
    "            }\n",
    "        }\n",
    "\n",
    "        if ($CimSession) {\n",
    "            $hash = [ordered]@{\n",
    "                PSTypename   = \"ServerStatus\"\n",
    "                Computername = $CimSession.computername.toUpper()\n",
    "            }\n",
    "            Try {\n",
    "                $cimParams.classname = 'Win32_OperatingSystem'\n",
    "                $cimParams.CimSession = $CimSession\n",
    "                Write-Verbose \"[$((Get-Date).TimeOfDay)] Using class $($cimParams.classname)\"\n",
    "                $OS = Get-CimInstance @cimParams\n",
    "                $uptime = (Get-Date) - $OS.lastBootUpTime\n",
    "                $hash.Add(\"Uptime\", $uptime)\n",
    "\n",
    "                $pctFreeMem = [math]::Round(($os.FreePhysicalMemory / $os.TotalVisibleMemorySize) * 100, 2)\n",
    "                if ($AsInt) {\n",
    "                    $pctFreeMem = $pctFreeMem -as [int]\n",
    "                }\n",
    "                $hash.Add(\"PctFreeMem\", $pctFreeMem)\n",
    "\n",
    "                $cimParams.classname = 'Win32_Logicaldisk'\n",
    "                $cimParams.filter = \"deviceid='C:'\"\n",
    "\n",
    "                Write-Verbose \"[$((Get-Date).TimeOfDay)] Using class $($cimParams.classname)\"\n",
    "                Get-CimInstance @cimParams | ForEach-Object {\n",
    "                    $name = \"PctFree{0}\" -f $_.deviceid.substring(0, 1)\n",
    "                    $pctFree = [math]::Round(($_.FreeSpace / $_.size) * 100, 2)\n",
    "                    if ($AsInt) {\n",
    "                        $pctFree = $pctFree -as [int]\n",
    "                    }\n",
    "                    $hash.add($name, $pctFree)\n",
    "                }\n",
    "\n",
    "                New-Object PSObject -Property $hash\n",
    "            }\n",
    "            catch {\n",
    "                Write-Error $_\n",
    "            }\n",
    "\n",
    "            #only remove the CimSession if it was created in this function\n",
    "            if ($tempSession) {\n",
    "                Write-Verbose \"[$((Get-Date).TimeOfDay)] Removing temporary CimSession\"\n",
    "                Remove-CimSession -CimSession $CimSession\n",
    "            }\n",
    "        } #if CimSession\n",
    "    } #process\n",
    "\n",
    "    End {\n",
    "        Write-Verbose \"[$((Get-Date).TimeOfDay)] Ending $($MyInvocation.MyCommand)\"\n",
    "    } #end\n",
    "} #close function\n",
    "\n",
    "Get-Help Get-ServerStatus"
   ]
  },
  {
   "cell_type": "markdown",
   "metadata": {},
   "source": [
    "The hashtable defines the type name.\n",
    "\n",
    "```powershell\n",
    " $hash = [ordered]@{\n",
    "    PSTypename   = \"ServerStatus\"\n",
    "    Computername = $CimSession.computername.toUpper()\n",
    "}\n",
    "```\n",
    "\n",
    "Let's try this without formatting."
   ]
  },
  {
   "cell_type": "code",
   "execution_count": 30,
   "id": "5dce89d3",
   "metadata": {
    "dotnet_interactive": {
     "language": "pwsh"
    },
    "polyglot_notebook": {
     "kernelName": "pwsh"
    },
    "vscode": {
     "languageId": "polyglot-notebook"
    }
   },
   "outputs": [
    {
     "name": "stdout",
     "output_type": "stream",
     "text": [
      "\n",
      "\u001b[32;1mComputername\u001b[0m\u001b[32;1m Uptime     \u001b[0m \u001b[32;1;3m%FreeMem\u001b[0m\u001b[32;1m PctFreeC\u001b[0m\n",
      "\u001b[32;1m------------\u001b[0m \u001b[32;1m------     \u001b[0m \u001b[32;1m--------\u001b[0m \u001b[32;1m--------\u001b[0m\n",
      "PROSPERO     00.17:33:28    49.32    10.21\n",
      "\n"
     ]
    }
   ],
   "source": [
    "Get-ServerStatus -OutVariable r"
   ]
  },
  {
   "cell_type": "markdown",
   "metadata": {},
   "source": [
    "*PowerShell defaulted to a table because there were five or fewer properties.*"
   ]
  },
  {
   "cell_type": "code",
   "execution_count": 31,
   "id": "cd70423f",
   "metadata": {
    "dotnet_interactive": {
     "language": "pwsh"
    },
    "polyglot_notebook": {
     "kernelName": "pwsh"
    },
    "vscode": {
     "languageId": "polyglot-notebook"
    }
   },
   "outputs": [
    {
     "name": "stdout",
     "output_type": "stream",
     "text": [
      "\n",
      "   TypeName: ServerStatus\n",
      "\n",
      "\u001b[32;1mName        \u001b[0m\u001b[32;1m MemberType  \u001b[0m\u001b[32;1m Definition\u001b[0m\n",
      "\u001b[32;1m----        \u001b[0m \u001b[32;1m----------  \u001b[0m \u001b[32;1m----------\u001b[0m\n",
      "Equals       Method       bool Equals(System.Object obj)\n",
      "GetHashCode  Method       int GetHashCode()\n",
      "GetType      Method       type GetType()\n",
      "ToString     Method       string ToString()\n",
      "Computername NoteProperty string Computername=PROSPERO\n",
      "PctFreeC     NoteProperty double PctFreeC=10.21\n",
      "PctFreeMem   NoteProperty double PctFreeMem=49.32\n",
      "Uptime       NoteProperty timespan Uptime=17:33:28.2568477\n",
      "\n"
     ]
    }
   ],
   "source": [
    "$r | Get-Member"
   ]
  },
  {
   "cell_type": "markdown",
   "metadata": {},
   "source": [
    "## Creating Custom Formatting the Easy Way\n",
    "\n",
    "Manually creating the formatting XML is a pain. I use [New-PSFormatXML](https://github.com/jdhitsolutions/PSScriptTools/blob/master/docs/New-PSFormatXML.md) from the [PSScriptTools module](https://github.com/jdhitsolutions/PSScriptTools). You can create list or table views. All you need is a sample object with values for all the properties you want to include. I'll include all properties.\n",
    "\n",
    "```powershell\n",
    "$r | New-PSFormatXML -path c:\\temp\\ServerStatus.format.ps1xml -FormatType Table\n",
    "code c:\\temp\\ServerStatus.format.ps1xml\n",
    "```"
   ]
  },
  {
   "cell_type": "markdown",
   "metadata": {},
   "source": [
    "*Format files typically follow the naming convention `typename.format.ps1xml`.*"
   ]
  },
  {
   "cell_type": "markdown",
   "metadata": {},
   "source": [
    "Use the custom format file to *add value* to your output. Here is my modified file.\n",
    "\n",
    "```xml\n",
    "<?xml version=\"1.0\" encoding=\"UTF-8\"?>\n",
    "<!--\n",
    "This file was created using the New-PSFormatXML command that is part\n",
    "of the PSScriptTools module.\n",
    "https://github.com/jdhitsolutions/PSScriptTools\n",
    "-->\n",
    "<Configuration>\n",
    "  <ViewDefinitions>\n",
    "    <View>\n",
    "      <Name>default</Name>\n",
    "      <ViewSelectedBy>\n",
    "        <TypeName>ServerStatus</TypeName>\n",
    "      </ViewSelectedBy>\n",
    "      <TableControl>\n",
    "        <!--Delete the AutoSize node if you want to use the defined widths.-->\n",
    "        <AutoSize />\n",
    "        <TableHeaders>\n",
    "          <TableColumnHeader>\n",
    "            <Label>Computername</Label>\n",
    "            <Width>15</Width>\n",
    "            <Alignment>left</Alignment>\n",
    "          </TableColumnHeader>\n",
    "          <TableColumnHeader>\n",
    "            <Label>Uptime</Label>\n",
    "            <Width>21</Width>\n",
    "            <Alignment>left</Alignment>\n",
    "          </TableColumnHeader>\n",
    "          <TableColumnHeader>\n",
    "            <!--Customized column header-->\n",
    "            <Label>%FreeMem</Label>\n",
    "            <Width>13</Width>\n",
    "            <!-- Customized alignment -->\n",
    "            <Alignment>right</Alignment>\n",
    "          </TableColumnHeader>\n",
    "          <TableColumnHeader>\n",
    "            <Label>PctFreeC</Label>\n",
    "            <Width>11</Width>\n",
    "            <Alignment>right</Alignment>\n",
    "          </TableColumnHeader>\n",
    "        </TableHeaders>\n",
    "        <TableRowEntries>\n",
    "          <TableRowEntry>\n",
    "            <TableColumnItems>\n",
    "              <TableColumnItem>\n",
    "                <PropertyName>Computername</PropertyName>\n",
    "              </TableColumnItem>\n",
    "              <TableColumnItem>\n",
    "                <!--Customized output-->\n",
    "                <ScriptBlock>\n",
    "                  \"{0:dd\\.hh\\:mm\\:ss}\" -f $_.Uptime\n",
    "                </ScriptBlock>\n",
    "              </TableColumnItem>\n",
    "              <TableColumnItem>\n",
    "                <PropertyName>PctFreeMem</PropertyName>\n",
    "              </TableColumnItem>\n",
    "              <TableColumnItem>\n",
    "                <PropertyName>PctFreeC</PropertyName>\n",
    "              </TableColumnItem>\n",
    "            </TableColumnItems>\n",
    "          </TableRowEntry>\n",
    "        </TableRowEntries>\n",
    "      </TableControl>\n",
    "    </View>\n",
    "  </ViewDefinitions>\n",
    "</Configuration>\n",
    "```\n",
    "\n",
    "> *Watch your casing on `<ScriptBlock>` nodes.*\n",
    "\n",
    "Use `Update-FormatData` to load the custom format file."
   ]
  },
  {
   "cell_type": "code",
   "execution_count": 32,
   "id": "e3c8eb4a",
   "metadata": {
    "dotnet_interactive": {
     "language": "pwsh"
    },
    "polyglot_notebook": {
     "kernelName": "pwsh"
    },
    "vscode": {
     "languageId": "polyglot-notebook"
    }
   },
   "outputs": [],
   "source": [
    "Update-FormatData .\\serverstatus.format.ps1xml"
   ]
  },
  {
   "cell_type": "markdown",
   "metadata": {},
   "source": [
    "Validate formatting with `Get-FormatData`."
   ]
  },
  {
   "cell_type": "code",
   "execution_count": 33,
   "id": "8b4103d7",
   "metadata": {
    "dotnet_interactive": {
     "language": "pwsh"
    },
    "polyglot_notebook": {
     "kernelName": "pwsh"
    },
    "vscode": {
     "languageId": "polyglot-notebook"
    }
   },
   "outputs": [
    {
     "name": "stdout",
     "output_type": "stream",
     "text": [
      "\n",
      "\u001b[32;1mTypeNames     \u001b[0m\u001b[32;1m FormatViewDefinition\u001b[0m\n",
      "\u001b[32;1m---------     \u001b[0m \u001b[32;1m--------------------\u001b[0m\n",
      "{ServerStatus} {default, default}\n",
      "\n"
     ]
    }
   ],
   "source": [
    "Get-FormatData -TypeName ServerStatus"
   ]
  },
  {
   "cell_type": "code",
   "execution_count": 34,
   "id": "f6fc7756",
   "metadata": {
    "dotnet_interactive": {
     "language": "pwsh"
    },
    "polyglot_notebook": {
     "kernelName": "pwsh"
    },
    "vscode": {
     "languageId": "polyglot-notebook"
    }
   },
   "outputs": [
    {
     "name": "stdout",
     "output_type": "stream",
     "text": [
      "\n",
      "\u001b[32;1mName   \u001b[0m\u001b[32;1m Control\u001b[0m\n",
      "\u001b[32;1m----   \u001b[0m \u001b[32;1m-------\u001b[0m\n",
      "default System.Management.Automation.TableControl\n",
      "default System.Management.Automation.TableControl\n",
      "\n"
     ]
    }
   ],
   "source": [
    "(Get-FormatData -TypeName ServerStatus).FormatViewDefinition"
   ]
  },
  {
   "cell_type": "code",
   "execution_count": 35,
   "id": "201f5f3c",
   "metadata": {
    "dotnet_interactive": {
     "language": "pwsh"
    },
    "polyglot_notebook": {
     "kernelName": "pwsh"
    },
    "vscode": {
     "languageId": "polyglot-notebook"
    }
   },
   "outputs": [
    {
     "name": "stdout",
     "output_type": "stream",
     "text": [
      "\n",
      "\u001b[32;1mHeaders          : \u001b[0m{System.Management.Automation.TableControlColumnHeader, \n",
      "                   System.Management.Automation.TableControlColumnHeader, \n",
      "                   System.Management.Automation.TableControlColumnHeader, \n",
      "                   System.Management.Automation.TableControlColumnHeader}\n",
      "\u001b[32;1mRows             : \u001b[0m{System.Management.Automation.TableControlRow}\n",
      "\u001b[32;1mAutoSize         : \u001b[0mTrue\n",
      "\u001b[32;1mHideTableHeaders : \u001b[0mFalse\n",
      "\u001b[32;1mGroupBy          : \u001b[0m\n",
      "\u001b[32;1mOutOfBand        : \u001b[0mFalse\n",
      "\n",
      "\u001b[32;1mHeaders          : \u001b[0m{System.Management.Automation.TableControlColumnHeader, \n",
      "                   System.Management.Automation.TableControlColumnHeader, \n",
      "                   System.Management.Automation.TableControlColumnHeader, \n",
      "                   System.Management.Automation.TableControlColumnHeader}\n",
      "\u001b[32;1mRows             : \u001b[0m{System.Management.Automation.TableControlRow}\n",
      "\u001b[32;1mAutoSize         : \u001b[0mTrue\n",
      "\u001b[32;1mHideTableHeaders : \u001b[0mFalse\n",
      "\u001b[32;1mGroupBy          : \u001b[0m\n",
      "\u001b[32;1mOutOfBand        : \u001b[0mFalse\n",
      "\n"
     ]
    }
   ],
   "source": [
    "(Get-FormatData serverstatus).FormatViewDefinition.Control"
   ]
  },
  {
   "cell_type": "code",
   "execution_count": 36,
   "id": "ad0d2679",
   "metadata": {
    "dotnet_interactive": {
     "language": "pwsh"
    },
    "polyglot_notebook": {
     "kernelName": "pwsh"
    },
    "vscode": {
     "languageId": "polyglot-notebook"
    }
   },
   "outputs": [
    {
     "name": "stdout",
     "output_type": "stream",
     "text": [
      "\n",
      "\u001b[32;1mLabel       \u001b[0m\u001b[32;1m Alignment\u001b[0m\u001b[32;1m Width\u001b[0m\n",
      "\u001b[32;1m-----       \u001b[0m \u001b[32;1m---------\u001b[0m \u001b[32;1m-----\u001b[0m\n",
      "Computername      Left    15\n",
      "Uptime            Left    21\n",
      "%FreeMem         Right    13\n",
      "PctFreeC         Right    11\n",
      "Computername      Left    15\n",
      "Uptime            Left    21\n",
      "%FreeMem         Right    13\n",
      "%FreeC           Right    11\n",
      "\n"
     ]
    }
   ],
   "source": [
    "(Get-FormatData serverstatus).FormatViewDefinition.Control.Headers\n",
    "# Width is ignored because I am using AutoSize - see above"
   ]
  },
  {
   "cell_type": "code",
   "execution_count": 37,
   "id": "b4037205",
   "metadata": {
    "dotnet_interactive": {
     "language": "pwsh"
    },
    "polyglot_notebook": {
     "kernelName": "pwsh"
    },
    "vscode": {
     "languageId": "polyglot-notebook"
    }
   },
   "outputs": [
    {
     "name": "stdout",
     "output_type": "stream",
     "text": [
      "\n",
      "\u001b[32;1mAlignment\u001b[0m\u001b[32;1m DisplayEntry\u001b[0m\n",
      "\u001b[32;1m---------\u001b[0m \u001b[32;1m------------                                                                             \u001b[0m\n",
      "Undefined property: Computername                                                                   \n",
      "Undefined script: …                                                                                \n",
      "Undefined property: PctFreeMem                                                                     \n",
      "Undefined property: PctFreeC                                                                       \n",
      "Undefined property: Computername                                                                   \n",
      "Undefined script: …                                                                                \n",
      "Undefined script: …                                                                                \n",
      "Undefined script: …                                                                                \n",
      "\n"
     ]
    }
   ],
   "source": [
    "(Get-FormatData serverstatus).FormatViewDefinition.Control.Rows.Columns"
   ]
  },
  {
   "cell_type": "markdown",
   "metadata": {},
   "source": [
    "The formatting is immediate and persistent for the duration of my session."
   ]
  },
  {
   "cell_type": "code",
   "execution_count": 38,
   "id": "1fb1f82b",
   "metadata": {
    "dotnet_interactive": {
     "language": "pwsh"
    },
    "polyglot_notebook": {
     "kernelName": "pwsh"
    },
    "vscode": {
     "languageId": "polyglot-notebook"
    }
   },
   "outputs": [
    {
     "name": "stdout",
     "output_type": "stream",
     "text": [
      "\n",
      "\u001b[32;1mComputername\u001b[0m\u001b[32;1m Uptime     \u001b[0m \u001b[32;1;3m%FreeMem\u001b[0m\u001b[32;1m PctFreeC\u001b[0m\n",
      "\u001b[32;1m------------\u001b[0m \u001b[32;1m------     \u001b[0m \u001b[32;1m--------\u001b[0m \u001b[32;1m--------\u001b[0m\n",
      "PROSPERO     00.17:33:29    49.27    10.21\n",
      "\n"
     ]
    }
   ],
   "source": [
    "Get-ServerStatus"
   ]
  },
  {
   "cell_type": "markdown",
   "metadata": {},
   "source": [
    "The output is easier to read.\n",
    "\n",
    "- Formatted Uptime time span to strip off milliseconds\n",
    "- Custom header `%FreeMem`\n",
    "- Aligned values\n",
    "\n",
    "But why stop there? I can use custom formatting to add value and information.\n",
    "\n",
    "```xml\n",
    "<TableColumnItem>\n",
    "  <ScriptBlock>\n",
    "  <!--Switch statements don't appear to work properly in script blocks-->\n",
    "  if ($_.PctFreeMem -le 30) {\n",
    "      <!--alert-->\n",
    "      <!--Or use $PSStyle-->\n",
    "      $Style = \"`e[5;38;5;197m\"\n",
    "    }\n",
    "    elseif ($_.PctFree -le 60) {\n",
    "      <!--Warning-->\n",
    "      $Style = \"`e[38;5;216m\"\n",
    "    }\n",
    "    else {\n",
    "      <!--OK-->\n",
    "      $Style = \"`e[38;5;155m\"\n",
    "    }\n",
    "    <!--script block output-->\n",
    "    \"$Style$($_.PctFreeMem)$($PSStyle.Reset)\"\n",
    "  </ScriptBlock>\n",
    "</TableColumnItem>\n",
    "```"
   ]
  },
  {
   "cell_type": "markdown",
   "metadata": {},
   "source": [
    "I have defined script blocks to display `%FreeMem` in different colors based on the value."
   ]
  },
  {
   "cell_type": "code",
   "execution_count": 39,
   "id": "e55a7222",
   "metadata": {
    "dotnet_interactive": {
     "language": "pwsh"
    },
    "polyglot_notebook": {
     "kernelName": "pwsh"
    },
    "vscode": {
     "languageId": "polyglot-notebook"
    }
   },
   "outputs": [],
   "source": [
    "# load the updated format file\n",
    "Update-FormatData -append .\\ServerStatus.Format2.ps1xml"
   ]
  },
  {
   "cell_type": "markdown",
   "metadata": {},
   "source": [
    "This should overwrite the previous formatting directives."
   ]
  },
  {
   "cell_type": "code",
   "execution_count": 40,
   "id": "98562ec0",
   "metadata": {
    "dotnet_interactive": {
     "language": "pwsh"
    },
    "polyglot_notebook": {
     "kernelName": "pwsh"
    },
    "vscode": {
     "languageId": "polyglot-notebook"
    }
   },
   "outputs": [
    {
     "name": "stdout",
     "output_type": "stream",
     "text": [
      "\n",
      "\u001b[32;1mComputername\u001b[0m\u001b[32;1m Uptime     \u001b[0m \u001b[32;1;3m%FreeMem\u001b[0m\u001b[32;1m PctFreeC\u001b[0m\n",
      "\u001b[32;1m------------\u001b[0m \u001b[32;1m------     \u001b[0m \u001b[32;1m--------\u001b[0m \u001b[32;1m--------\u001b[0m\n",
      "PROSPERO     00.17:33:30     49.3    10.21\n",
      "\n"
     ]
    }
   ],
   "source": [
    "Get-ServerStatus\n",
    "#this may not format properly in VSCode"
   ]
  },
  {
   "cell_type": "markdown",
   "metadata": {},
   "source": [
    "Percent Free values are now color-coded based on the value. Low values will blink.\n",
    "\n",
    "![Get-ServerStatus sample](images/get-serverstatus.png)\n",
    "\n",
    "![Get-ServerStatus sample 2](images/get-serverstatus2.png)"
   ]
  },
  {
   "cell_type": "markdown",
   "metadata": {},
   "source": [
    "## Another Example\n",
    "\n",
    "Here is a function that writes a larger rich object to the pipeline.\n",
    "\n",
    "```powershell\n",
    "[PSCustomObject]@{\n",
    "    PSTypeName       = 'PSServerDetail'\n",
    "    Computername     = $os.CSName\n",
    "    OperatingSystem  = $os.Caption\n",
    "    InstallDate      = $os.InstallDate\n",
    "    Memory           = $os.TotalVisibleMemorySize\n",
    "    FreeMemory       = $os.FreePhysicalMemory\n",
    "    RunningProcesses = $os.NumberOfProcesses - 2  #subtract System and Idle processes\n",
    "    RunningServices  = $svc.Count\n",
    "    LastBoot         = $os.LastBootUpTime\n",
    "    Shares           = $shares\n",
    "}\n",
    "```\n",
    "\n",
    "Let's see it. The script file also defines a few type extensions for the object such as alias properties."
   ]
  },
  {
   "cell_type": "code",
   "execution_count": 41,
   "id": "233c22ed",
   "metadata": {
    "dotnet_interactive": {
     "language": "pwsh"
    },
    "polyglot_notebook": {
     "kernelName": "pwsh"
    },
    "vscode": {
     "languageId": "polyglot-notebook"
    }
   },
   "outputs": [
    {
     "name": "stdout",
     "output_type": "stream",
     "text": [
      "\n",
      "   Server: \u001b[1;38;5;147mPROSPERO\u001b[0m [\u001b[3mMicrosoft Windows 11 Pro\u001b[0m]\n",
      "\n",
      "\u001b[32;1mLastBoot           \u001b[0m\u001b[32;1m Uptime     \u001b[0m \u001b[32;1;3mMemGB\u001b[0m \u001b[32;1;3mProcesses\u001b[0m \u001b[32;1;3mServices\u001b[0m\n",
      "\u001b[32;1m--------           \u001b[0m \u001b[32;1m------     \u001b[0m \u001b[32;1m-----\u001b[0m \u001b[32;1m---------\u001b[0m \u001b[32;1m--------\u001b[0m\n",
      "3/5/2025 7:42:37 PM 00.17:33:31    64       390      161\n",
      "\n"
     ]
    }
   ],
   "source": [
    ". .\\Get-ServerDetail.ps1\n",
    "$n = Get-ServerDetail\n",
    "$n"
   ]
  },
  {
   "cell_type": "markdown",
   "metadata": {},
   "source": [
    "I want a default table view. This is a great way to prototype."
   ]
  },
  {
   "cell_type": "code",
   "execution_count": 42,
   "id": "1a344a13",
   "metadata": {
    "dotnet_interactive": {
     "language": "pwsh"
    },
    "polyglot_notebook": {
     "kernelName": "pwsh"
    },
    "vscode": {
     "languageId": "polyglot-notebook"
    }
   },
   "outputs": [
    {
     "name": "stdout",
     "output_type": "stream",
     "text": [
      "\n",
      "   Computername: PROSPERO\n",
      "\n",
      "\u001b[32;1mLastBoot           \u001b[0m\u001b[32;1m Uptime          \u001b[0m\u001b[32;1m MemGB\u001b[0m\u001b[32;1m Processes\u001b[0m\u001b[32;1m Services\u001b[0m\n",
      "\u001b[32;1m--------           \u001b[0m \u001b[32;1m------          \u001b[0m \u001b[32;1m-----\u001b[0m \u001b[32;1m---------\u001b[0m \u001b[32;1m--------\u001b[0m\n",
      "3/5/2025 7:42:37 PM 17:33:31.1702468    64       390      161\n",
      "\n"
     ]
    }
   ],
   "source": [
    "$n | Format-Table -GroupBy ComputerName -Property LastBoot,Uptime,\n",
    "@{Name=\"MemGB\";Expression={$_.Memory/1mb -as [int]}},\n",
    "@{Name=\"Processes\";Expression={$_.RunningProcesses}},\n",
    "@{Name=\"Services\";Expression = {$_.RunningServices}}"
   ]
  },
  {
   "cell_type": "markdown",
   "metadata": {},
   "source": [
    "I will create my format file. `New-PSFormatXML` will use the expression script blocks in the XML file.\n",
    "\n",
    "```powershell\n",
    "$n | New-PSFormatXML -GroupBy ComputerName -Properties LastBoot,Uptime,\n",
    "@{Name=\"MemGB\";Expression={$_.Memory/1mb -as [int]}},\n",
    "@{Name=\"Processes\";Expression={$_.RunningProcesses}},\n",
    "@{Name=\"Services\";Expression = {$_.RunningServices}} -Path .\\PSServerDetail.format.ps1xml\n",
    "```\n",
    "\n",
    "I customized the grouping in the XML file.\n",
    "\n",
    "```xml\n",
    "<GroupBy>\n",
    "  <ScriptBlock>\n",
    "  <!--Display domain controllers with a different color-->\n",
    "    if ($_.Computername -Match \"dom\") {\n",
    "      $fg = \"`e[1;38;5;48m\"\n",
    "    }\n",
    "    else {\n",
    "      $fg = \"`e[1;38;5;147m\"\n",
    "    }\n",
    "    <!--output-->\n",
    "    \"$fg{0}`e[0m [`e[3m{1}`e[0m]\" -f $_.ComputerName,$_.OS.replace(\"Evaluation\",\"\")\n",
    "    </ScriptBlock>\n",
    "  <Label>Server</Label>\n",
    "</GroupBy>\n",
    "```\n",
    "\n",
    "And made other minor adjustments."
   ]
  },
  {
   "cell_type": "code",
   "execution_count": 43,
   "id": "91f2ed4b",
   "metadata": {
    "dotnet_interactive": {
     "language": "pwsh"
    },
    "polyglot_notebook": {
     "kernelName": "pwsh"
    },
    "vscode": {
     "languageId": "polyglot-notebook"
    }
   },
   "outputs": [
    {
     "name": "stdout",
     "output_type": "stream",
     "text": [
      "\n",
      "   Server: \u001b[1;38;5;147mPROSPERO\u001b[0m [\u001b[3mMicrosoft Windows 11 Pro\u001b[0m]\n",
      "\n",
      "\u001b[32;1mLastBoot           \u001b[0m\u001b[32;1m Uptime     \u001b[0m \u001b[32;1;3mMemGB\u001b[0m \u001b[32;1;3mProcesses\u001b[0m \u001b[32;1;3mServices\u001b[0m\n",
      "\u001b[32;1m--------           \u001b[0m \u001b[32;1m------     \u001b[0m \u001b[32;1m-----\u001b[0m \u001b[32;1m---------\u001b[0m \u001b[32;1m--------\u001b[0m\n",
      "3/5/2025 7:42:37 PM 00.17:33:31    64       390      161\n",
      "\n"
     ]
    }
   ],
   "source": [
    "Update-FormatData .\\PSServerDetail.format.ps1xml\n",
    "$n"
   ]
  },
  {
   "cell_type": "markdown",
   "metadata": {},
   "source": [
    "Here's an example from my test domain that better displays the custom formatting.\n",
    "\n",
    "'![Get-ServerDetail Formatting](images/get-serverdetail.png)\n",
    "\n",
    "I think this is easier to read and more informative than the default table view."
   ]
  },
  {
   "cell_type": "markdown",
   "metadata": {},
   "source": [
    "## Custom Views\n",
    "\n",
    "I have a default table view. I can also create a default list view and add it to the same formatting file.\n",
    "\n",
    "```powershell\n",
    "$n  | New-PSFormatXML -Append -Path .\\PSServerDetail.format.ps1xml -FormatType List `\n",
    " -properties Computername,OS,Memory,RunningProcesses,RunningServices,LastBoot,Uptime \n",
    "```\n",
    "\n",
    "The currently loaded format file already has this view."
   ]
  },
  {
   "cell_type": "code",
   "execution_count": 44,
   "id": "e63c13db",
   "metadata": {
    "dotnet_interactive": {
     "language": "pwsh"
    },
    "polyglot_notebook": {
     "kernelName": "pwsh"
    },
    "vscode": {
     "languageId": "polyglot-notebook"
    }
   },
   "outputs": [
    {
     "name": "stdout",
     "output_type": "stream",
     "text": [
      "\n",
      "\u001b[32;1mComputername : \u001b[0mPROSPERO\n",
      "\u001b[32;1mOS           : \u001b[0mMicrosoft Windows 11 Pro\n",
      "\u001b[32;1mMemoryGB     : \u001b[0m64\n",
      "\u001b[32;1mProcesses    : \u001b[0m390\n",
      "\u001b[32;1mServices     : \u001b[0m161\n",
      "\u001b[32;1mLastBoot     : \u001b[0m3/5/2025 7:42:37 PM\n",
      "\u001b[32;1mUptime       : \u001b[0m00.17:33:31\n",
      "\n"
     ]
    }
   ],
   "source": [
    "$n | Format-List"
   ]
  },
  {
   "cell_type": "markdown",
   "metadata": {},
   "source": [
    "I can create additional views so that I don't have to run commands like this:\n",
    "\n",
    "```powershell\n",
    "$n | Select Computername,\n",
    "@{Name=\"MemGB\";Expression = {$_.Memory/1mb -as [int]}},\n",
    "@{Name=\"FreeMemGB\";Expression= {$_.FreeMemory/1mb -as [int]}},\n",
    "@{Name=\"PctFreeMem\";Expression={($_.FreeMemory/$_.Memory)*100}}\n",
    "```\n",
    "\n",
    "Instead, I'll define a custom view.\n",
    "\n",
    "```powershell\n",
    "$n | New-PSFormatXML -Append -Path .\\PSServerDetail.format.ps1xml -ViewName memory `\n",
    " -FormatType Table -properties Computername,\n",
    "@{Name=\"MemGB\";Expression = {$_.Memory/1mb -as [int]}},\n",
    "@{Name=\"FreeMemGB\";Expression= {$_.FreeMemory/1mb -as [int]}},\n",
    "@{Name=\"PctFreeMem\";Expression={($_.FreeMemory/$_.Memory)*100}}\n",
    "```"
   ]
  },
  {
   "cell_type": "code",
   "execution_count": null,
   "id": "cc73654a",
   "metadata": {
    "dotnet_interactive": {
     "language": "pwsh"
    },
    "polyglot_notebook": {
     "kernelName": "pwsh"
    },
    "vscode": {
     "languageId": "polyglot-notebook"
    }
   },
   "outputs": [],
   "source": [
    "code .\\PSServerDetail.format.ps1xml"
   ]
  },
  {
   "cell_type": "code",
   "execution_count": null,
   "id": "5e002c9d",
   "metadata": {
    "dotnet_interactive": {
     "language": "pwsh"
    },
    "polyglot_notebook": {
     "kernelName": "pwsh"
    },
    "vscode": {
     "languageId": "polyglot-notebook"
    }
   },
   "outputs": [
    {
     "name": "stdout",
     "output_type": "stream",
     "text": [
      "\n",
      "\u001b[32;1mComputername\u001b[0m \u001b[32;1;3mMemGB\u001b[0m \u001b[32;1;3mFreeMemGB\u001b[0m \u001b[32;1;3mPctFreeMem\u001b[0m\n",
      "\u001b[32;1m------------\u001b[0m \u001b[32;1m-----\u001b[0m \u001b[32;1m---------\u001b[0m \u001b[32;1m----------\u001b[0m\n",
      "PROSPERO        64        31      47.94\n",
      "\n"
     ]
    }
   ],
   "source": [
    "$n | Format-Table -view memory"
   ]
  },
  {
   "cell_type": "markdown",
   "metadata": {},
   "source": [
    "> *You could also create custom type extensions or property sets.*"
   ]
  },
  {
   "cell_type": "markdown",
   "metadata": {},
   "source": [
    "## Modules and Custom Formats\n",
    "\n",
    "For stand-alone functions I typically insert this code at the end of the script.\n",
    "\n",
    "```powershell\n",
    "Update-FormatData -AppendPath $PSScriptRoot\\PSServerDetail.format.ps1xml\n",
    "```\n",
    "\n",
    "For modules, I typically store format files in a subfolder. For example, these are the files for the [PSBluesky module]( https://github.com/jdhitsolutions/PSBluesky)\n",
    "\n",
    "![Module format files](images/module-format-files.png)\n",
    "\n",
    "The files are loaded in the module manifest.\n",
    "\n",
    "```JSON\n",
    "FormatsToProcess     = @(\n",
    "    'formats\\PSBlueSkyTimelinePost.format.ps1xml',\n",
    "    'formats\\PSBlueskyBlockedUser.format.ps1xml',\n",
    "    'formats\\PSBlueskyBlockedList.format.ps1xml',\n",
    "    'formats\\PSBlueskyProfile.format.ps1xml',\n",
    "    'formats\\PSBlueskyFollower.format.ps1xml',\n",
    "    'formats\\PSBlueskyFeed.format.ps1xml',\n",
    "    'formats\\PSBlueskyLiked.format.ps1xml',\n",
    "    'formats\\PSBlueskySession.format.ps1xml',\n",
    "    'formats\\PSBlueskyNotification.format.ps1xml',\n",
    "    'formats\\PSBlueskySearchResult.format.ps1xml',\n",
    "    'formats\\PSBlueskyModuleInfo.format.ps1xml'\n",
    ")\n",
    "```\n",
    "\n",
    "I've done __a lot__ of formatting customization, including true custom formatting.\n",
    "\n",
    "```XML\n",
    "<CustomControl>\n",
    "    <CustomEntries>\n",
    "        <CustomEntry>\n",
    "            <CustomItem>\n",
    "                <ExpressionBinding>\n",
    "                    <ScriptBlock>\n",
    "                    <!--\n",
    "                        18 Feb 2025 Added optional code to use pwshSpectreConsole module\n",
    "                        to display the user's avatar. This will only work if the module\n",
    "                        is installed and the console properly configured.\n",
    "                    -->\n",
    "                    Try {\n",
    "                        $avt = (Get-SpectreImage $_.avatar -MaxWidth 5 -errorAction Stop | \n",
    "                        Out-SpectreHost).Trim()\n",
    "                    }\n",
    "                    Catch {\n",
    "                        $avt = $Null\n",
    "                    }\n",
    "                    \"{2} {0} [$($bskyPreferences['UserName']){1}$($PSStyle.Reset)]\" -f `\n",
    "                    $_.Display.trim(),$($PSStyle.FormatHyperLink($_.UserName,$_.Url)),\n",
    "                    $avt\n",
    "                    </ScriptBlock>\n",
    "                </ExpressionBinding>\n",
    "...\n",
    "```\n",
    "\n",
    "The Bluesky profile object is rich in properties.\n",
    "\n",
    "![Bluesky profile properties](images/blueskyprofile-properties.png)\n",
    "\n",
    "But easier to consume with custom formatting.\n",
    "\n",
    "![Bluesky profile formatted](images/blueskyprofile-formatted.png)\n",
    "\n",
    "Formatting includes hyperlinks created with `$PSStyle`.\n",
    "\n",
    "```powershell\n",
    "\"{2} {0} [$($bskyPreferences['UserName']){1}$($PSStyle.Reset)]\" -f $_.Display.trim(),\n",
    "$($PSStyle.FormatHyperLink($_.UserName,$_.Url)),$avt\n",
    "111"
   ]
  },
  {
   "cell_type": "markdown",
   "metadata": {},
   "source": [
    "## Other Module Examples\n",
    "\n",
    "- PSProjectStatus (https://github.com/jdhitsolutions/PSProjectStatus/tree/main/formats)\n",
    "\n",
    "![Get-PSProjectStatus](images/get-psprojectstatus.png)\n",
    "\n",
    "- AD Reporting Tools (https://github.com/jdhitsolutions/ADReportingTools/tree/main/formats)\n",
    "\n",
    "![Get-ADDomainControllerHealth](images/get-dchealth.png)\n",
    "\n",
    "- PSWorkItem (https://github.com/jdhitsolutions/PSWorkItem/tree/main/formats)\n",
    "\n",
    "![Get-PSWorkItemCategory](images/get-psworkitemcategory.png)"
   ]
  },
  {
   "cell_type": "markdown",
   "metadata": {},
   "source": [
    "## Behind the PowerShell Pipeline\n",
    "\n",
    "Knowing how and when to use a feature like custom formatting isn't always obvious or clearly documented. That's why I wrote this.\n",
    "\n",
    "![Behind the PowerShell Pipeline](images/title_page.png)\n",
    "\n",
    "Available on Leanpub at [https://leanpub.com/behind-the-pspipeline](https://leanpub.com/behind-the-pspipeline). The book is drawn from my premium PowerShell newsletter [[https://buttondown.com/behind-the-powershell-pipeline]](https://buttondown.com/behind-the-powershell-pipeline) I started three years ago."
   ]
  },
  {
   "cell_type": "markdown",
   "metadata": {},
   "source": [
    "## Questions and Answers\n",
    "\n",
    "Session materials can be found at https://github.com/jdhitsolutions/PSCustomFormatting. I have enabled Discussions for follow-up questions.\n",
    "\n",
    "![Photo by Ann H: https://www.pexels.com/photo/brown-wooden-letter-blocks-6732759/](images/pexels-ann-h-45017-6732759.jpg)"
   ]
  }
 ],
 "metadata": {
  "kernelInfo": {
   "defaultKernelName": null,
   "items": [
    {
     "aliases": [
      "c#",
      "cs"
     ],
     "languageName": "C#",
     "name": "csharp"
    },
    {
     "aliases": [
      "f#",
      "fs"
     ],
     "languageName": "F#",
     "name": "fsharp"
    },
    {
     "languageName": "HTML",
     "name": "html"
    },
    {
     "languageName": "HTTP",
     "name": "http"
    },
    {
     "aliases": [
      "js"
     ],
     "languageName": "JavaScript",
     "name": "javascript"
    },
    {
     "languageName": "KQL",
     "name": "kql"
    },
    {
     "languageName": "Mermaid",
     "name": "mermaid"
    },
    {
     "aliases": [
      "powershell"
     ],
     "languageName": "PowerShell",
     "name": "pwsh"
    },
    {
     "languageName": "SQL",
     "name": "sql"
    },
    {
     "name": "value"
    }
   ]
  },
  "kernelspec": {
   "display_name": ".NET (C#)",
   "language": "C#",
   "name": ".net-csharp"
  },
  "language_info": {
   "name": "python"
  },
  "metadata": {
   "kernelspec": {
    "display_name": ".NET (C#)",
    "language": "C#",
    "name": ".net-csharp"
   },
   "polyglot_notebook": {
    "kernelInfo": {
     "defaultKernelName": "csharp",
     "items": [
      {
       "aliases": [],
       "name": "csharp"
      },
      {
       "aliases": [],
       "languageName": "pwsh",
       "name": "pwsh"
      }
     ]
    }
   }
  },
  "polyglot_notebook": {
   "kernelInfo": {
    "defaultKernelName": "csharp",
    "items": [
     {
      "aliases": [],
      "name": "csharp"
     },
     {
      "aliases": [],
      "languageName": "pwsh",
      "name": "pwsh"
     }
    ]
   }
  }
 },
 "nbformat": 4,
 "nbformat_minor": 5
}
